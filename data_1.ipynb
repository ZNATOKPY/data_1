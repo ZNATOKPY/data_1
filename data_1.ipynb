{
 "cells": [
  {
   "cell_type": "markdown",
   "metadata": {},
   "source": [
    "Задача №1"
   ]
  },
  {
   "cell_type": "code",
   "execution_count": null,
   "metadata": {},
   "outputs": [],
   "source": [
    "phrase_1 = input(\"Введите первую фразу: \")\n",
    "phrase_2 = input(\"Введите вторую фразу: \")\n",
    "\n",
    "if len(phrase_1) > len(phrase_2):\n",
    "    print(\"фраза 1 длиннее фразы 2\")\n",
    "elif len(phrase_1) < len(phrase_2):\n",
    "    print(\"Фраза 2 длиннее фразы 1\")\n",
    "else:\n",
    "    print(\"Фраза 1 равна фразе 2\")"
   ]
  },
  {
   "cell_type": "markdown",
   "metadata": {},
   "source": [
    "Задача №2"
   ]
  },
  {
   "cell_type": "code",
   "execution_count": null,
   "metadata": {},
   "outputs": [],
   "source": [
    "year = int(input(\"Введите год: \"))\n",
    "\n",
    "if year%4 == 0:\n",
    "    print(\"Високосный год!\")\n",
    "else:\n",
    "    print(\"Обычный год!\")"
   ]
  },
  {
   "cell_type": "markdown",
   "metadata": {},
   "source": [
    "Задача №3"
   ]
  },
  {
   "cell_type": "code",
   "execution_count": null,
   "metadata": {},
   "outputs": [],
   "source": [
    "day = int(input(\"Введите день: \"))\n",
    "month = input(\"Введите название месяца: \")\n",
    "\n",
    "if 21 <= day <= 31 and month == \"Март\" or 1 <= day <= 20 and month == \"Апрель\":\n",
    "    print(\"Ваш знак зодиака: Овен\")\n",
    "elif 21 <= day <= 30 and month == \"Апрель\" or 1 <= day <= 21 and month == \"Май\":\n",
    "    print(\"Ваш знак зодиака: Телец\")\n",
    "elif 22 <= day <= 31 and month == \"Май\" or 1 <= day <= 21 and month == \"Июнь\":\n",
    "    print(\"Ваш знак зодиака: Близнецы\")\n",
    "elif 22 <= day <= 30 and month == \"Июнь\" or 1 <= day <= 22 and month == \"Июль\":\n",
    "    print(\"Ваш знак зодиака: Рак\")\n",
    "elif 23 <= day <= 31 and month == \"Июль\" or 1 <= day <= 21 and month == \"Август\":\n",
    "    print(\"Ваш знак зодиака: Лев\")\n",
    "elif 22 <= day <= 31 and month == \"Август\" or 1 <= day <= 23 and month == \"Сентябрь\":\n",
    "    print(\"Ваш знак зодиака: Дева\")\n",
    "elif 24 <= day <= 30 and month == \"Сентябрь\" or 1 <= day <= 23 and month == \"Октябрь\":\n",
    "    print(\"Ваш знак зодиака: Весы\")\n",
    "elif 24 <= day <= 31 and month == \"Октябрь\" or 1 <= day <= 22 and month == \"Ноябрь\":\n",
    "    print(\"Ваш знак зодиака: Скорпион\")\n",
    "elif 23 <= day <= 30 and month == \"Ноябрь\" or 1 <= day <= 22 and month == \"Декабрь\":\n",
    "    print(\"Ваш знак зодиака: Стрелец\")\n",
    "elif 23 <= day <= 31 and month == \"Декабрь\" or 1 <= day <= 20 and month == \"Январь\":\n",
    "    print(\"Ваш знак зодиака: Козерог\")\n",
    "elif 21 <= day <= 31 and month == \"Январь\" or 1 <= day <= 19 and month == \"Февраль\":\n",
    "    print(\"Ваш знак зодиака: Водолей\")\n",
    "elif 20 <= day <= 29 and month == \"Февраль\" or 1 <= day <= 20 and month == \"Март\":\n",
    "    print(\"Ваш знак зодиака: Рыбы\")\n",
    "else:\n",
    "    print(\"Неизвестный науке зверь!\")\n",
    "    print(\"Попробуйте заново ввести корректно день и месяц своего рождения!\")\n",
    "\n"
   ]
  },
  {
   "cell_type": "markdown",
   "metadata": {},
   "source": [
    "Задача №4"
   ]
  },
  {
   "cell_type": "code",
   "execution_count": null,
   "metadata": {},
   "outputs": [],
   "source": [
    "width = int(input(\"Введите значение ширины товара в сантиметрах: \"))\n",
    "lenght = int(input(\"Введите значение длины товара в сантиметрах: \"))\n",
    "height = int(input(\"Введите значение высоты товара в сантиметрах: \"))\n",
    "\n",
    "if width <= 15 and lenght <= 15 and height <= 15:\n",
    "    print(\"Коробка №1\")\n",
    "elif width > 200 or lenght > 200 or height > 200:\n",
    "    print(\"Упаковка для лыж\")\n",
    "elif 15 < width < 50 or 15 < lenght < 50 or 15 < height < 50:\n",
    "    print(\"Коробка №2\")\n",
    "else:\n",
    "    print(\"Коробка №3\")\n"
   ]
  },
  {
   "cell_type": "markdown",
   "metadata": {},
   "source": [
    "Задача №5"
   ]
  },
  {
   "cell_type": "code",
   "execution_count": null,
   "metadata": {},
   "outputs": [],
   "source": [
    "number = input(\"Введите шестизначный номер проездного билета: \")\n",
    "\n",
    "number_1 = int(number[0]) + int(number[1]) + int(number[2])\n",
    "number_2 = int(number[3]) + int(number[4]) + int(number[5])\n",
    "\n",
    "if number_1 != number_2:\n",
    "    print(\"Несчастливый билет\")\n",
    "else:\n",
    "    print(\"Повезло у Вас счастливый билет!\")"
   ]
  },
  {
   "cell_type": "markdown",
   "metadata": {},
   "source": [
    "Задача №6"
   ]
  },
  {
   "cell_type": "code",
   "execution_count": null,
   "metadata": {},
   "outputs": [],
   "source": [
    "menu = input(\"Для того чтобы найти S фигуры нужно ввести её название(Круг, Труегольник, Прямоугольник): \")\n",
    "\n",
    "if menu == \"Круг\":\n",
    "    R = int(input(\"Введите значение радиуса в сантиметрах: \"))\n",
    "    P = 3.14\n",
    "    S = round((R**2)*P, 2)\n",
    "    print(\"Площадь круга:\", S)\n",
    "elif menu == \"Треугольник\":\n",
    "    A = int(input(\"Введите длину стороны А в сантиметрах: \"))\n",
    "    B = int(input(\"Введите длину стороны В в сантиметрах: \"))\n",
    "    C = int(input(\"Введите длину стороны С в сантиметрах: \"))\n",
    "    p = round((A + B + C) / 2, 2)\n",
    "    S = round(pow((p*(p-A)*(p-B)*(p-C)), 1/2), 2)\n",
    "    print(\"Площадь треугольника:\", S)\n",
    "elif menu == \"Прямоугольник\":\n",
    "    A = int(input(\"Введите длину стороны А в сантиметрах: \"))\n",
    "    B = int(input(\"Введите длину стороны В в сантиметрах: \"))\n",
    "    S = round(A * B, 2)\n",
    "    print(\"Площадь прямоугольника:\", S)\n",
    "else:\n",
    "    print(\"Введены не верные параметры, попробуйте снова!\")"
   ]
  }
 ],
 "metadata": {
  "kernelspec": {
   "display_name": "Python 3",
   "language": "python",
   "name": "python3"
  },
  "language_info": {
   "codemirror_mode": {
    "name": "ipython",
    "version": 3
   },
   "file_extension": ".py",
   "mimetype": "text/x-python",
   "name": "python",
   "nbconvert_exporter": "python",
   "pygments_lexer": "ipython3",
   "version": "3.12.4"
  }
 },
 "nbformat": 4,
 "nbformat_minor": 2
}
